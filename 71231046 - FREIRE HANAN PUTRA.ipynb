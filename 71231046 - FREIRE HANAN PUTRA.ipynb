{
 "cells": [
  {
   "cell_type": "code",
   "execution_count": 2,
   "id": "26789a9e",
   "metadata": {},
   "outputs": [
    {
     "name": "stdout",
     "output_type": "stream",
     "text": [
      "Masukkan jumlah kategori: 3\n",
      "Masukkan nama kategori:game\n",
      "Masukkan 5 nama aplikasi di kategori game\n",
      "Nama aplikasi: ff\n",
      "Nama aplikasi: ml\n",
      "Nama aplikasi: pubg\n",
      "Nama aplikasi: coc\n",
      "Nama aplikasi: valorant\n",
      "Masukkan nama kategori:mbanking\n",
      "Masukkan 5 nama aplikasi di kategori mbanking\n",
      "Nama aplikasi: blu\n",
      "Nama aplikasi: livin\n",
      "Nama aplikasi: brimo\n",
      "Nama aplikasi: bni mobile\n",
      "Nama aplikasi: gopay\n",
      "Masukkan nama kategori:yang ada di folder saya\n",
      "Masukkan 5 nama aplikasi di kategori yang ada di folder saya\n",
      "Nama aplikasi: ml\n",
      "Nama aplikasi: ff\n",
      "Nama aplikasi: gopay\n",
      "Nama aplikasi: kalkulator\n",
      "Nama aplikasi: instagram\n",
      "{'game': ['ff', 'ml', 'pubg', 'coc', 'valorant'], 'mbanking': ['blu', 'livin', 'brimo', 'bni mobile', 'gopay'], 'yang ada di folder saya': ['ml', 'ff', 'gopay', 'kalkulator', 'instagram']}\n",
      "Aplikasi yang hanya muncul di satu kategori saja:\n",
      "\n",
      "Aplikasi yang muncul tepat di dua kategori sekaligus:\n"
     ]
    }
   ],
   "source": [
    "n = int(input('Masukkan jumlah kategori: '))\n",
    "data_aplikasi = {}\n",
    "\n",
    "for i in range(n):\n",
    "    nama_kategori = input('Masukkan nama kategori:')\n",
    "    print(f'Masukkan 5 nama aplikasi di kategori {nama_kategori}')\n",
    "\n",
    "    aplikasi = []\n",
    "    for j in range(5):\n",
    "        nama_aplikasi = input('Nama aplikasi: ')\n",
    "        aplikasi.append(nama_aplikasi)\n",
    "\n",
    "    data_aplikasi[nama_kategori] = aplikasi\n",
    "\n",
    "print(data_aplikasi)\n",
    "\n",
    "daftar_aplikasi_list = [set(aplikasi) for aplikasi in data_aplikasi.values()]\n",
    "\n",
    "hasil = daftar_aplikasi_list[0]\n",
    "for i in range(1, len(daftar_aplikasi_list)):\n",
    "    hasil = hasil.intersection(daftar_aplikasi_list[i])\n",
    "\n",
    "print(\"Aplikasi yang hanya muncul di satu kategori saja:\")\n",
    "for aplikasi in hasil:\n",
    "    print(aplikasi)\n",
    "\n",
    "if n > 2:\n",
    "    print(\"\\nAplikasi yang muncul tepat di dua kategori sekaligus:\")\n",
    "    for aplikasi in hasil:\n",
    "        count = 0\n",
    "        for kategori in data_aplikasi:\n",
    "            if aplikasi in data_aplikasi[kategori]:\n",
    "                count += 1\n",
    "        if count == 2:\n",
    "            print(aplikasi)\n"
   ]
  },
  {
   "cell_type": "code",
   "execution_count": 3,
   "id": "280bb970",
   "metadata": {},
   "outputs": [
    {
     "name": "stdout",
     "output_type": "stream",
     "text": [
      "Data List Sebelum di Konversi Menjadi Data Set:  [1, 2, 3, 4, 5, 1, 2, 3]\n",
      "List ke Set: {1, 2, 3, 4, 5}\n",
      "\n",
      "Data List Sebelum di Konversi Menjadi Data Set {1, 2, 3, 4, 5}\n",
      "Set ke List: [1, 2, 3, 4, 5]\n",
      "\n",
      "Data Tuple Sebelum Dikonversi Menjadi set:  (1, 2, 3, 4, 5, 1, 2, 3)\n",
      "Tupel ke Set: {1, 2, 3, 4, 5}\n",
      "\n",
      "Data Set Sebelum Dikonversi Menjadi Tuple:  {1, 2, 3, 4, 5}\n",
      "Set ke Tupel: (1, 2, 3, 4, 5)\n"
     ]
    }
   ],
   "source": [
    "data_list = [1, 2, 3, 4, 5, 1, 2, 3]\n",
    "data_tuple = (1, 2, 3, 4, 5, 1, 2, 3)\n",
    "\n",
    "data_set = set(data_list)\n",
    "print(\"Data List Sebelum di Konversi Menjadi Data Set: \", data_list)\n",
    "print(\"List ke Set:\", data_set)  \n",
    "\n",
    "data_list = list(data_set)\n",
    "print(\"\\nData List Sebelum di Konversi Menjadi Data Set\", data_set)\n",
    "print(\"Set ke List:\", data_list)\n",
    "\n",
    "data_set = set(data_tuple)\n",
    "print(\"\\nData Tuple Sebelum Dikonversi Menjadi set: \",data_tuple)\n",
    "print(\"Tupel ke Set:\", data_set)\n",
    "\n",
    "data_tuple = tuple(data_set)\n",
    "print (\"\\nData Set Sebelum Dikonversi Menjadi Tuple: \",data_set)\n",
    "print(\"Set ke Tupel:\", data_tuple)\n"
   ]
  },
  {
   "cell_type": "code",
   "execution_count": 32,
   "id": "f0da9314",
   "metadata": {},
   "outputs": [
    {
     "name": "stdout",
     "output_type": "stream",
     "text": [
      "Masukkan path untuk file pertama: text1.txt\n",
      "Masukkan path untuk file kedua: text2.txt\n",
      "Konten dari kedua file adalah:\n",
      "freire hanan putra\n",
      "steven oshi gemilang\n",
      "galih permana\n",
      "jona ruben manalu\n",
      "felio raphael bagaskara\n",
      "informatika 23\n",
      "menegement 23\n",
      "\n"
     ]
    }
   ],
   "source": [
    "def baca_file(input_file):\n",
    "    try:\n",
    "        with open(input_file, 'r') as file:\n",
    "            konten = file.read().lower()\n",
    "        return konten\n",
    "    except FileNotFoundError:\n",
    "        print(f\"File {input_file} tidak ditemukan.\")\n",
    "        return \"\"\n",
    "\n",
    "def main():\n",
    "    input_file1 = input(\"Masukkan path untuk file pertama: \")\n",
    "    input_file2 = input(\"Masukkan path untuk file kedua: \")\n",
    "\n",
    "    file1 = baca_file(input_file1)\n",
    "    file2 = baca_file(input_file2)\n",
    "    \n",
    "    semua_konten = file1 + file2\n",
    "    \n",
    "    print(\"Konten dari kedua file adalah:\")\n",
    "    print(semua_konten)\n",
    "\n",
    "if __name__ == \"__main__\":\n",
    "    main()\n"
   ]
  },
  {
   "cell_type": "code",
   "execution_count": null,
   "id": "46845f03",
   "metadata": {},
   "outputs": [],
   "source": []
  }
 ],
 "metadata": {
  "kernelspec": {
   "display_name": "Python 3 (ipykernel)",
   "language": "python",
   "name": "python3"
  },
  "language_info": {
   "codemirror_mode": {
    "name": "ipython",
    "version": 3
   },
   "file_extension": ".py",
   "mimetype": "text/x-python",
   "name": "python",
   "nbconvert_exporter": "python",
   "pygments_lexer": "ipython3",
   "version": "3.11.5"
  }
 },
 "nbformat": 4,
 "nbformat_minor": 5
}
