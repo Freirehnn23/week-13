{
 "cells": [
  {
   "cell_type": "code",
   "execution_count": 37,
   "id": "3f801fc0",
   "metadata": {},
   "outputs": [
    {
     "name": "stdout",
     "output_type": "stream",
     "text": [
      "Masukkan jumlah kategori: 3\n",
      "Masukkan nama kategori 1: game\n",
      "Masukkan 5 nama aplikasi di kategori game\n",
      "Nama aplikasi 1: ff\n",
      "Nama aplikasi 2: ml\n",
      "Nama aplikasi 3: coc\n",
      "Nama aplikasi 4: pubg\n",
      "Nama aplikasi 5: cs go\n",
      "Masukkan nama kategori 2: wishlist\n",
      "Masukkan 5 nama aplikasi di kategori wishlist\n",
      "Nama aplikasi 1: ml\n",
      "Nama aplikasi 2: pubg\n",
      "Nama aplikasi 3: valo\n",
      "Nama aplikasi 4: codm\n",
      "Nama aplikasi 5: realdrum\n",
      "Masukkan nama kategori 3: sudah di download\n",
      "Masukkan 5 nama aplikasi di kategori sudah di download\n",
      "Nama aplikasi 1: ml\n",
      "Nama aplikasi 2: ovo\n",
      "Nama aplikasi 3: dana\n",
      "Nama aplikasi 4: gopay\n",
      "Nama aplikasi 5: livin\n",
      "\n",
      " {'game': ['ff', 'ml', 'coc', 'pubg', 'cs go'], 'wishlist': ['ml', 'pubg', 'valo', 'codm', 'realdrum'], 'sudah di download': ['ml', 'ovo', 'dana', 'gopay', 'livin']}\n",
      "\n",
      "Aplikasi yang hanya muncul di satu kategori saja:\n",
      "coc\n",
      "ml\n",
      "ff\n",
      "realdrum\n",
      "valo\n",
      "dana\n",
      "gopay\n",
      "ovo\n",
      "livin\n",
      "pubg\n",
      "codm\n",
      "cs go\n",
      "\n",
      "Aplikasi yang muncul tepat di dua kategori sekaligus:\n",
      "ml\n",
      "pubg\n"
     ]
    }
   ],
   "source": [
    "n = int(input('Masukkan jumlah kategori: '))\n",
    "data_aplikasi = {}\n",
    "\n",
    "for i in range(n):\n",
    "    nama_kategori = input(f'Masukkan nama kategori {i+1}: ')\n",
    "    print(f'Masukkan 5 nama aplikasi di kategori {nama_kategori}')\n",
    "\n",
    "    aplikasi = []\n",
    "    for j in range(5):\n",
    "        nama_aplikasi = input(f'Nama aplikasi {j+1}: ')\n",
    "        aplikasi.append(nama_aplikasi)\n",
    "\n",
    "    data_aplikasi[nama_kategori] = aplikasi\n",
    "\n",
    "print(\"\\n\", data_aplikasi)\n",
    "\n",
    "aplikasi_satu_kategori = set()\n",
    "aplikasi_dua_kategori = set()\n",
    "\n",
    "for aplikasi in data_aplikasi.values():\n",
    "    for app in aplikasi:\n",
    "        if app in aplikasi_satu_kategori:\n",
    "            aplikasi_dua_kategori.add(app)\n",
    "        else:\n",
    "            aplikasi_satu_kategori.add(app)\n",
    "\n",
    "print(\"\\nAplikasi yang hanya muncul di satu kategori saja:\")\n",
    "for app in aplikasi_satu_kategori:\n",
    "    print(app)\n",
    "\n",
    "if n > 2:\n",
    "    print(\"\\nAplikasi yang muncul tepat di dua kategori sekaligus:\")\n",
    "    for app in aplikasi_dua_kategori:\n",
    "        print(app)\n"
   ]
  },
  {
   "cell_type": "code",
   "execution_count": 3,
   "id": "b944f1f8",
   "metadata": {},
   "outputs": [
    {
     "name": "stdout",
     "output_type": "stream",
     "text": [
      "Data List Sebelum di Konversi Menjadi Data Set:  [1, 2, 3, 4, 5, 1, 2, 3]\n",
      "List ke Set: {1, 2, 3, 4, 5}\n",
      "\n",
      "Data List Sebelum di Konversi Menjadi Data Set {1, 2, 3, 4, 5}\n",
      "Set ke List: [1, 2, 3, 4, 5]\n",
      "\n",
      "Data Tuple Sebelum Dikonversi Menjadi set:  (1, 2, 3, 4, 5, 1, 2, 3)\n",
      "Tupel ke Set: {1, 2, 3, 4, 5}\n",
      "\n",
      "Data Set Sebelum Dikonversi Menjadi Tuple:  {1, 2, 3, 4, 5}\n",
      "Set ke Tupel: (1, 2, 3, 4, 5)\n"
     ]
    }
   ],
   "source": [
    "data_list = [1, 2, 3, 4, 5, 1, 2, 3]\n",
    "data_tuple = (1, 2, 3, 4, 5, 1, 2, 3)\n",
    "\n",
    "data_set = set(data_list)\n",
    "print(\"Data List Sebelum di Konversi Menjadi Data Set: \", data_list)\n",
    "print(\"List ke Set:\", data_set)  \n",
    "\n",
    "data_list = list(data_set)\n",
    "print(\"\\nData List Sebelum di Konversi Menjadi Data Set\", data_set)\n",
    "print(\"Set ke List:\", data_list)\n",
    "\n",
    "data_set = set(data_tuple)\n",
    "print(\"\\nData Tuple Sebelum Dikonversi Menjadi set: \",data_tuple)\n",
    "print(\"Tupel ke Set:\", data_set)\n",
    "\n",
    "data_tuple = tuple(data_set)\n",
    "print (\"\\nData Set Sebelum Dikonversi Menjadi Tuple: \",data_set)\n",
    "print(\"Set ke Tupel:\", data_tuple)\n"
   ]
  },
  {
   "cell_type": "code",
   "execution_count": 32,
   "id": "32ee6c11",
   "metadata": {},
   "outputs": [
    {
     "name": "stdout",
     "output_type": "stream",
     "text": [
      "Masukkan path untuk file pertama: text1.txt\n",
      "Masukkan path untuk file kedua: text2.txt\n",
      "Konten dari kedua file adalah:\n",
      "freire hanan putra\n",
      "steven oshi gemilang\n",
      "galih permana\n",
      "jona ruben manalu\n",
      "felio raphael bagaskara\n",
      "informatika 23\n",
      "menegement 23\n",
      "\n"
     ]
    }
   ],
   "source": [
    "def baca_file(input_file):\n",
    "    try:\n",
    "        with open(input_file, 'r') as file:\n",
    "            konten = file.read().lower()\n",
    "        return konten\n",
    "    except FileNotFoundError:\n",
    "        print(f\"File {input_file} tidak ditemukan.\")\n",
    "        return \"\"\n",
    "\n",
    "def main():\n",
    "    input_file1 = input(\"Masukkan path untuk file pertama: \")\n",
    "    input_file2 = input(\"Masukkan path untuk file kedua: \")\n",
    "\n",
    "    file1 = baca_file(input_file1)\n",
    "    file2 = baca_file(input_file2)\n",
    "    \n",
    "    semua_konten = file1 + file2\n",
    "    \n",
    "    print(\"Konten dari kedua file adalah:\")\n",
    "    print(semua_konten)\n",
    "\n",
    "if __name__ == \"__main__\":\n",
    "    main()\n"
   ]
  },
  {
   "cell_type": "code",
   "execution_count": null,
   "id": "5d19e298",
   "metadata": {},
   "outputs": [],
   "source": []
  }
 ],
 "metadata": {
  "kernelspec": {
   "display_name": "Python 3 (ipykernel)",
   "language": "python",
   "name": "python3"
  },
  "language_info": {
   "codemirror_mode": {
    "name": "ipython",
    "version": 3
   },
   "file_extension": ".py",
   "mimetype": "text/x-python",
   "name": "python",
   "nbconvert_exporter": "python",
   "pygments_lexer": "ipython3",
   "version": "3.11.5"
  }
 },
 "nbformat": 4,
 "nbformat_minor": 5
}
